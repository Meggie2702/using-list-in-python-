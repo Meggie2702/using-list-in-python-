{
 "cells": [
  {
   "cell_type": "code",
   "execution_count": 5,
   "id": "3a684d73",
   "metadata": {},
   "outputs": [
    {
     "name": "stdout",
     "output_type": "stream",
     "text": [
      "my name is Margaret\n",
      "I was born in kano state Nigeria\n",
      "I love reading and studying\n",
      "I studied at the University of Lagos state Nigeria\n",
      "I am the 3rd born out of 3 children \n"
     ]
    }
   ],
   "source": [
    "#introducing myself using print statement \n",
    "def myself (name):\n",
    "    print (\"my name is \" + name)\n",
    "    print (\"I was born in kano state Nigeria\")\n",
    "    print (\"I love reading and studying\")\n",
    "    print (\"I studied at the University of Lagos state Nigeria\")\n",
    "    print (\"I am the 3rd born out of 3 children \")\n",
    "    \n",
    "    \n",
    "myself (\"Margaret\")\n",
    "\n",
    "    "
   ]
  },
  {
   "cell_type": "code",
   "execution_count": 12,
   "id": "d7c3d985",
   "metadata": {},
   "outputs": [
    {
     "data": {
      "text/plain": [
       "106"
      ]
     },
     "execution_count": 12,
     "metadata": {},
     "output_type": "execute_result"
    }
   ],
   "source": [
    "# calculation using return \n",
    "def add_three (a,b,c):\n",
    "    return a+b+c*7\n",
    "add_three(3,5,14)\n",
    "    "
   ]
  },
  {
   "cell_type": "code",
   "execution_count": null,
   "id": "facd735a",
   "metadata": {},
   "outputs": [],
   "source": []
  }
 ],
 "metadata": {
  "kernelspec": {
   "display_name": "Python 3 (ipykernel)",
   "language": "python",
   "name": "python3"
  },
  "language_info": {
   "codemirror_mode": {
    "name": "ipython",
    "version": 3
   },
   "file_extension": ".py",
   "mimetype": "text/x-python",
   "name": "python",
   "nbconvert_exporter": "python",
   "pygments_lexer": "ipython3",
   "version": "3.9.7"
  }
 },
 "nbformat": 4,
 "nbformat_minor": 5
}
