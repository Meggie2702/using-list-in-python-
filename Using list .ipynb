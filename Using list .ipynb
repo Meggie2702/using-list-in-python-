{
 "cells": [
  {
   "cell_type": "code",
   "execution_count": 1,
   "id": "8402fe91",
   "metadata": {},
   "outputs": [
    {
     "name": "stdout",
     "output_type": "stream",
     "text": [
      "[2, 3, 5, 7, 11, 13, 17, 23, 29, 31, 37]\n"
     ]
    }
   ],
   "source": [
    "primes = [ 2,3,5,7,11,13,17,23,29,31,37]\n",
    "print (primes)\n"
   ]
  },
  {
   "cell_type": "code",
   "execution_count": 2,
   "id": "1d63969d",
   "metadata": {},
   "outputs": [
    {
     "name": "stdout",
     "output_type": "stream",
     "text": [
      "['pen', 'books', 'erasers', 'cellotapes', 'juice', 'party pack']\n"
     ]
    }
   ],
   "source": [
    "items = [ 'pen', 'books', 'erasers', 'cellotapes']\n",
    "total_items = items + ['juice', 'party pack']\n",
    "print (total_items)"
   ]
  },
  {
   "cell_type": "code",
   "execution_count": 3,
   "id": "fcfc3427",
   "metadata": {},
   "outputs": [
    {
     "name": "stdout",
     "output_type": "stream",
     "text": [
      "[['a', 5], ['b', 2]]\n"
     ]
    }
   ],
   "source": [
    "numbers= [5,6,8,10,15,17,21,19]\n",
    "names = [ 'asake','alake','fadeke']\n",
    "mixed= ['asake', 5,19]\n",
    "list_of_lists= [['a',5],['b',2]]\n",
    "print(list_of_lists)"
   ]
  },
  {
   "cell_type": "code",
   "execution_count": 4,
   "id": "2ac4fd6d",
   "metadata": {},
   "outputs": [
    {
     "name": "stdout",
     "output_type": "stream",
     "text": [
      "['bananas', 'cherries', 'mango']\n"
     ]
    }
   ],
   "source": [
    "orders= ['bananas','cherries']\n",
    "orders.append ('mango')\n",
    "print (orders)"
   ]
  },
  {
   "cell_type": "code",
   "execution_count": 5,
   "id": "a27d9fc6",
   "metadata": {},
   "outputs": [
    {
     "name": "stdout",
     "output_type": "stream",
     "text": [
      "strawberry\n",
      "blueberry\n"
     ]
    }
   ],
   "source": [
    "berries= [\"strawberry\", \"raspberry\", \"blueberry\"]\n",
    "berries [0]\n",
    "print (berries [0])\n",
    "berries [2]\n",
    "print (berries [2])"
   ]
  },
  {
   "cell_type": "code",
   "execution_count": 9,
   "id": "014a11b6",
   "metadata": {},
   "outputs": [],
   "source": [
    "# negative list indexing "
   ]
  },
  {
   "cell_type": "code",
   "execution_count": 13,
   "id": "7a2c9561",
   "metadata": {},
   "outputs": [
    {
     "name": "stdout",
     "output_type": "stream",
     "text": [
      "ofe akumai kuka\n",
      "['ewedu', 'oha', 'ofe akumai kuka']\n",
      "['gbegiri', 'ewedu']\n"
     ]
    }
   ],
   "source": [
    "soups= ['gbegiri', 'ewedu', 'oha','ofe aku' 'mai kuka']\n",
    "soups [-1]\n",
    "soups [-3:]\n",
    "soups [:-2]\n",
    "print (soups [-1])\n",
    "print (soups [-3:])\n",
    "\n",
    "print (soups [:-2])"
   ]
  },
  {
   "cell_type": "code",
   "execution_count": null,
   "id": "34ac3580",
   "metadata": {},
   "outputs": [],
   "source": []
  }
 ],
 "metadata": {
  "kernelspec": {
   "display_name": "Python 3 (ipykernel)",
   "language": "python",
   "name": "python3"
  },
  "language_info": {
   "codemirror_mode": {
    "name": "ipython",
    "version": 3
   },
   "file_extension": ".py",
   "mimetype": "text/x-python",
   "name": "python",
   "nbconvert_exporter": "python",
   "pygments_lexer": "ipython3",
   "version": "3.9.7"
  }
 },
 "nbformat": 4,
 "nbformat_minor": 5
}
